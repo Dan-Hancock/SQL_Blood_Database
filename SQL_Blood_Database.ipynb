{
 "cells": [
  {
   "cell_type": "code",
   "execution_count": null,
   "id": "cdee03ed-b56e-4f4d-a287-89caadd69238",
   "metadata": {},
   "outputs": [],
   "source": []
  },
  {
   "cell_type": "code",
   "execution_count": 3,
   "id": "5c32ac36-bec8-4583-a223-f801255c6e87",
   "metadata": {},
   "outputs": [],
   "source": [
    "import mysql.connector as sql"
   ]
  },
  {
   "cell_type": "code",
   "execution_count": 13,
   "id": "d7c6dbd9-50c1-418b-b0b4-b0c05dd48175",
   "metadata": {},
   "outputs": [],
   "source": [
    "con = sql.connect(host='localhost',\n",
    "                  user='root',\n",
    "                  password='Argenticanthem1*')\n",
    "con.autocommit=True\n",
    "cur = con.cursor()"
   ]
  },
  {
   "cell_type": "code",
   "execution_count": 15,
   "id": "769fa3ea-235f-4397-a354-342e5e7289c3",
   "metadata": {},
   "outputs": [],
   "source": [
    "cur.execute(\"CREATE DATABASE BLOODWORK;\")"
   ]
  },
  {
   "cell_type": "code",
   "execution_count": 17,
   "id": "f5175797-6604-4c78-bda2-6dde22f79f16",
   "metadata": {},
   "outputs": [],
   "source": [
    "cur.execute(\"USE BLOODWORK;\")"
   ]
  },
  {
   "cell_type": "code",
   "execution_count": null,
   "id": "c1b90701-13cd-4ed8-8fb9-f9e3db2f00a3",
   "metadata": {},
   "outputs": [],
   "source": [
    "s1 = \"CREATE TABLE donor_data\" \\\n",
    "     \"(id int primary key,\" \\\n",
    "     \"name varchar(100),\" \\\n",
    "     \"sex char(1),\" \\\n",
    "     \"age varchar(3),\" \\\n",
    "     \"date_of_birth date,\" \\\n",
    "     \"ssn char(9),\" \\\n",
    "     \"last_donated date,\" \\\n",
    "     \"phone_number char(10),\" \\\n",
    "     \"blood_type varchar(2),\" \\\n",
    "     \"height varchar(,\" \\\n",
    "     \"weight ,\" \\"
   ]
  }
 ],
 "metadata": {
  "kernelspec": {
   "display_name": "Python [conda env:base] *",
   "language": "python",
   "name": "conda-base-py"
  },
  "language_info": {
   "codemirror_mode": {
    "name": "ipython",
    "version": 3
   },
   "file_extension": ".py",
   "mimetype": "text/x-python",
   "name": "python",
   "nbconvert_exporter": "python",
   "pygments_lexer": "ipython3",
   "version": "3.12.3"
  }
 },
 "nbformat": 4,
 "nbformat_minor": 5
}
